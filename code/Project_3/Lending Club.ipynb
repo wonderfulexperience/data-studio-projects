{
 "cells": [
  {
   "cell_type": "code",
   "execution_count": 1,
   "metadata": {
    "collapsed": true
   },
   "outputs": [],
   "source": [
    "import pandas as pd\n",
    "%matplotlib inline\n",
    "import numpy as np"
   ]
  },
  {
   "cell_type": "code",
   "execution_count": 10,
   "metadata": {},
   "outputs": [],
   "source": [
    "df_original = pd.read_csv(\"/Users/alex/Desktop/Columbia/Algorithms/Project_3/2015_loans.csv\", dtype='object')"
   ]
  },
  {
   "cell_type": "code",
   "execution_count": 29,
   "metadata": {
    "collapsed": true
   },
   "outputs": [],
   "source": [
    "df_new = pd.DataFrame(df_original[['loan_status', 'addr_state','annual_inc','desc','emp_title','emp_length','home_ownership','zip_code','purpose','earliest_cr_line','pub_rec','mths_since_last_delinq']])"
   ]
  },
  {
   "cell_type": "code",
   "execution_count": 30,
   "metadata": {},
   "outputs": [
    {
     "data": {
      "text/plain": [
       "Current               240003\n",
       "Fully Paid            123078\n",
       "Charged Off            44186\n",
       "Late (31-120 days)      7617\n",
       "In Grace Period         4749\n",
       "Late (16-30 days)       1451\n",
       "Default                   11\n",
       "Name: loan_status, dtype: int64"
      ]
     },
     "execution_count": 30,
     "metadata": {},
     "output_type": "execute_result"
    }
   ],
   "source": [
    "df_new['loan_status'].value_counts()"
   ]
  },
  {
   "cell_type": "code",
   "execution_count": 31,
   "metadata": {},
   "outputs": [],
   "source": [
    "df_new[\"status\"] = df_new.loan_status"
   ]
  },
  {
   "cell_type": "code",
   "execution_count": 35,
   "metadata": {},
   "outputs": [],
   "source": [
    "df_new.loc[~(df_new[\"loan_status\"].str.contains(\"Current\") | df_new[\"loan_status\"].str.contains(\"Fully\")\\\n",
    "                   | df_new[\"loan_status\"].str.contains(\"In Grace\")), \"status\"] = \"problem\""
   ]
  },
  {
   "cell_type": "code",
   "execution_count": 36,
   "metadata": {},
   "outputs": [],
   "source": [
    "df_new.loc[~(df_new[\"status\"].str.contains(\"problem\")), \"status\"] = \"no problem\""
   ]
  },
  {
   "cell_type": "code",
   "execution_count": 38,
   "metadata": {},
   "outputs": [
    {
     "data": {
      "text/plain": [
       "home_ownership  status \n",
       "RENT            problem    0.149412\n",
       "OWN             problem    0.130752\n",
       "MORTGAGE        problem    0.107053\n",
       "Name: status, dtype: float64"
      ]
     },
     "execution_count": 38,
     "metadata": {},
     "output_type": "execute_result"
    }
   ],
   "source": [
    "(df_new[df_new[\"status\"]==\"problem\"].groupby(\"home_ownership\").status.value_counts()\\\n",
    " / df_new.groupby(\"home_ownership\").status.count()).sort_values(ascending=False).head(5)"
   ]
  },
  {
   "cell_type": "code",
   "execution_count": 40,
   "metadata": {},
   "outputs": [
    {
     "data": {
      "text/plain": [
       "addr_state  status \n",
       "SD          problem    0.165269\n",
       "NV          problem    0.157326\n",
       "AL          problem    0.155227\n",
       "AR          problem    0.151967\n",
       "OK          problem    0.151966\n",
       "Name: status, dtype: float64"
      ]
     },
     "execution_count": 40,
     "metadata": {},
     "output_type": "execute_result"
    }
   ],
   "source": [
    "(df_new[df_new[\"status\"]==\"problem\"].groupby(\"addr_state\").\\\n",
    " status.value_counts() / df_new.groupby(\"addr_state\").status.count()).sort_values(ascending=False).head(5)"
   ]
  },
  {
   "cell_type": "code",
   "execution_count": 42,
   "metadata": {},
   "outputs": [
    {
     "data": {
      "text/plain": [
       "addr_state  status \n",
       "SC          problem    0.098101\n",
       "OR          problem    0.091019\n",
       "NH          problem    0.080019\n",
       "VT          problem    0.076233\n",
       "ME          problem    0.067179\n",
       "Name: status, dtype: float64"
      ]
     },
     "execution_count": 42,
     "metadata": {},
     "output_type": "execute_result"
    }
   ],
   "source": [
    "(df_new[df_new[\"status\"]==\"problem\"].groupby(\"addr_state\").\\\n",
    " status.value_counts() / df_new.groupby(\"addr_state\").status.count()).sort_values(ascending=False).tail(5)"
   ]
  },
  {
   "cell_type": "code",
   "execution_count": 47,
   "metadata": {},
   "outputs": [],
   "source": [
    "df_new.to_csv(\"new_file_2015.csv\")"
   ]
  },
  {
   "cell_type": "code",
   "execution_count": null,
   "metadata": {
    "collapsed": true
   },
   "outputs": [],
   "source": []
  }
 ],
 "metadata": {
  "kernelspec": {
   "display_name": "Python 3",
   "language": "python",
   "name": "python3"
  },
  "language_info": {
   "codemirror_mode": {
    "name": "ipython",
    "version": 3
   },
   "file_extension": ".py",
   "mimetype": "text/x-python",
   "name": "python",
   "nbconvert_exporter": "python",
   "pygments_lexer": "ipython3",
   "version": "3.6.1"
  }
 },
 "nbformat": 4,
 "nbformat_minor": 2
}
