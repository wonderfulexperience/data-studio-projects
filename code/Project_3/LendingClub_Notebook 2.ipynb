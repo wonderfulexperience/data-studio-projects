{
 "cells": [
  {
   "cell_type": "code",
   "execution_count": 1,
   "metadata": {
    "collapsed": true
   },
   "outputs": [],
   "source": [
    "import pandas as pd\n",
    "import numpy as np\n",
    "%matplotlib inline"
   ]
  },
  {
   "cell_type": "code",
   "execution_count": 2,
   "metadata": {
    "collapsed": true
   },
   "outputs": [],
   "source": [
    "df = pd.read_csv('/Users/alex/Desktop/Columbia/Algorithms/Project_3/new_file_2015.csv', index_col=\"Unnamed: 0\", keep_default_na=False)"
   ]
  },
  {
   "cell_type": "code",
   "execution_count": 3,
   "metadata": {
    "collapsed": true
   },
   "outputs": [],
   "source": [
    "#\"emp_length\" can be < 1 year or > 10 years\n",
    "df.emp_length = df.emp_length.str.replace(\"+\",\"\").str.replace(\" years\",\"\").str.replace(\"< \",\"\").str.replace(\" year\",\"\")"
   ]
  },
  {
   "cell_type": "code",
   "execution_count": 4,
   "metadata": {
    "collapsed": true
   },
   "outputs": [],
   "source": [
    "del df['desc']"
   ]
  },
  {
   "cell_type": "code",
   "execution_count": 5,
   "metadata": {},
   "outputs": [
    {
     "data": {
      "text/plain": [
       "loan_status                object\n",
       "addr_state                 object\n",
       "annual_inc                float64\n",
       "emp_title                  object\n",
       "emp_length                 object\n",
       "home_ownership             object\n",
       "zip_code                   object\n",
       "purpose                    object\n",
       "earliest_cr_line           object\n",
       "pub_rec                     int64\n",
       "mths_since_last_delinq     object\n",
       "status                     object\n",
       "dtype: object"
      ]
     },
     "execution_count": 5,
     "metadata": {},
     "output_type": "execute_result"
    }
   ],
   "source": [
    "df.dtypes"
   ]
  },
  {
   "cell_type": "code",
   "execution_count": 6,
   "metadata": {
    "collapsed": true
   },
   "outputs": [],
   "source": [
    "df.zip_code = df.zip_code.str.replace(\"xx\",\"\")"
   ]
  },
  {
   "cell_type": "code",
   "execution_count": 7,
   "metadata": {
    "collapsed": true
   },
   "outputs": [],
   "source": [
    "df.loc[df.emp_length.str.contains(\"n/a\"), \"emp_length\"] = np.nan"
   ]
  },
  {
   "cell_type": "code",
   "execution_count": 8,
   "metadata": {},
   "outputs": [
    {
     "name": "stdout",
     "output_type": "stream",
     "text": [
      "46000.0 65000.0 91690.5 9500000.0\n"
     ]
    }
   ],
   "source": [
    "quart1 = df.quantile(q=0.25, axis=0, numeric_only=True, interpolation='linear')[\"annual_inc\"]\n",
    "quart2 = df.quantile(q=0.5, axis=0, numeric_only=True, interpolation='linear')[\"annual_inc\"]\n",
    "quart3 = df.quantile(q=0.75, axis=0, numeric_only=True, interpolation='linear')[\"annual_inc\"]\n",
    "print(quart1,quart2,quart3,df[\"annual_inc\"].max())"
   ]
  },
  {
   "cell_type": "code",
   "execution_count": 9,
   "metadata": {
    "collapsed": true
   },
   "outputs": [],
   "source": [
    "df[\"quartile\"] = pd.cut(df[\"annual_inc\"], [0,quart1,quart2,quart3,df[\"annual_inc\"].max()], right=True, labels=[0,quart1,quart2,quart3])"
   ]
  },
  {
   "cell_type": "code",
   "execution_count": 10,
   "metadata": {
    "collapsed": true
   },
   "outputs": [],
   "source": [
    "df[\"emp_length\"]= df[\"emp_length\"].dropna().astype(int)"
   ]
  },
  {
   "cell_type": "code",
   "execution_count": 11,
   "metadata": {
    "collapsed": true
   },
   "outputs": [],
   "source": [
    "df[\"emp_length_short\"] = pd.cut(df[\"emp_length\"], [0,1,5,9,10,11], right=True, labels=[0,1,5,9,10])"
   ]
  },
  {
   "cell_type": "code",
   "execution_count": 12,
   "metadata": {},
   "outputs": [
    {
     "data": {
      "text/plain": [
       "quartile\n",
       "0.0        0.151174\n",
       "46000.0    0.134514\n",
       "65000.0    0.120162\n",
       "91690.5    0.099293\n",
       "Name: status, dtype: float64"
      ]
     },
     "execution_count": 12,
     "metadata": {},
     "output_type": "execute_result"
    }
   ],
   "source": [
    "df[df.status==\"problem\"].groupby(\"quartile\").status.count() / df.groupby(\"quartile\").status.count()"
   ]
  },
  {
   "cell_type": "code",
   "execution_count": 13,
   "metadata": {},
   "outputs": [
    {
     "name": "stdout",
     "output_type": "stream",
     "text": [
      "addr_state\n",
      "SD    16.526946\n",
      "NV    15.732613\n",
      "AL    15.522723\n",
      "NH     8.001940\n",
      "VT     7.623318\n",
      "ME     6.717850\n",
      "Name: status, dtype: float64\n"
     ]
    },
    {
     "data": {
      "image/png": "[encoded data removed]",
      "text/plain": [
       "<matplotlib.figure.Figure at 0x10caf4780>"
      ]
     },
     "metadata": {},
     "output_type": "display_data"
    }
   ],
   "source": [
    "state_prob = (df[df.status==\"problem\"].groupby(\"addr_state\").status.count() / df.groupby(\"addr_state\").status.count() * 100)\n",
    "state_prob = state_prob.sort_values(ascending=False)\n",
    "state_prob = state_prob[state_prob.isin(state_prob.head(3)) | state_prob.isin(state_prob.tail(3))]\n",
    "print(state_prob)\n",
    "ax = state_prob.sort_values().plot(kind=\"barh\",color=\"darkred\")\n",
    "ax.set_xticks([0,5,10,15])\n",
    "ax.tick_params(left=\"off\")\n",
    "ax.set_ylabel(\"\")\n",
    "ax.set_yticklabels(['Maine','Vermont','New Hampshire','Alabama','Nevada','South Dakota'])\n",
    "ax.set_xlabel(\"Loans with problems in %\")\n",
    "\n",
    "for item in ['top','right','bottom','left']:\n",
    "    ax.spines[item].set_visible(False)\n",
    "\n",
    "ax.get_figure().savefig(\"states.svg\")"
   ]
  },
  {
   "cell_type": "code",
   "execution_count": 14,
   "metadata": {},
   "outputs": [
    {
     "data": {
      "text/plain": [
       "emp_length_short\n",
       "0     0.136007\n",
       "1     0.128004\n",
       "5     0.127057\n",
       "9     0.114739\n",
       "10         NaN\n",
       "Name: status, dtype: float64"
      ]
     },
     "execution_count": 14,
     "metadata": {},
     "output_type": "execute_result"
    }
   ],
   "source": [
    "emp_prob = df[df.status==\"problem\"].groupby(\"emp_length_short\").status.count() / df.groupby(\"emp_length_short\").status.count()\n",
    "emp_prob.sort_values(ascending=False)"
   ]
  },
  {
   "cell_type": "code",
   "execution_count": 15,
   "metadata": {
    "collapsed": true
   },
   "outputs": [],
   "source": [
    "# first two numbers of zip code\n",
    "df[\"zip_short\"] = df.zip_code.str[:1]"
   ]
  },
  {
   "cell_type": "code",
   "execution_count": 16,
   "metadata": {},
   "outputs": [
    {
     "data": {
      "text/plain": [
       "zip_short\n",
       "1    0.135145\n",
       "7    0.131878\n",
       "3    0.131049\n",
       "4    0.129826\n",
       "8    0.128671\n",
       "2    0.124407\n",
       "9    0.124021\n",
       "5    0.119551\n",
       "6    0.114951\n",
       "0    0.114673\n",
       "Name: status, dtype: float64"
      ]
     },
     "execution_count": 16,
     "metadata": {},
     "output_type": "execute_result"
    }
   ],
   "source": [
    "zip_prob = df[df.status==\"problem\"].groupby(df.zip_short).status.count() / df.groupby(df.zip_short).status.count()\n",
    "zip_prob.sort_values(ascending=False)"
   ]
  },
  {
   "cell_type": "code",
   "execution_count": 17,
   "metadata": {},
   "outputs": [
    {
     "data": {
      "text/plain": [
       "debt_consolidation    250020\n",
       "credit_card           102025\n",
       "home_improvement       25293\n",
       "other                  19204\n",
       "major_purchase          7449\n",
       "medical                 3938\n",
       "car                     3466\n",
       "small_business          3364\n",
       "moving                  2420\n",
       "vacation                2249\n",
       "house                   1438\n",
       "renewable_energy         224\n",
       "wedding                    4\n",
       "educational                1\n",
       "Name: purpose, dtype: int64"
      ]
     },
     "execution_count": 17,
     "metadata": {},
     "output_type": "execute_result"
    }
   ],
   "source": [
    "df.purpose.value_counts()"
   ]
  },
  {
   "cell_type": "code",
   "execution_count": 18,
   "metadata": {
    "collapsed": true
   },
   "outputs": [],
   "source": [
    "df[\"purpose_new\"] = df.purpose"
   ]
  },
  {
   "cell_type": "code",
   "execution_count": 19,
   "metadata": {
    "collapsed": true
   },
   "outputs": [],
   "source": [
    "df.loc[df.purpose.isin([\"medical\",\"car\",\"small_business\",\"moving\",\"vacation\",\"house\",\"renewable_energy\",\n",
    "                    \"wedding\",\"educational\"]),\"purpose_new\"] = \"other\""
   ]
  },
  {
   "cell_type": "code",
   "execution_count": 20,
   "metadata": {},
   "outputs": [
    {
     "data": {
      "text/plain": [
       "debt_consolidation    250020\n",
       "credit_card           102025\n",
       "other                  36308\n",
       "home_improvement       25293\n",
       "major_purchase          7449\n",
       "Name: purpose_new, dtype: int64"
      ]
     },
     "execution_count": 20,
     "metadata": {},
     "output_type": "execute_result"
    }
   ],
   "source": [
    "df.purpose_new.value_counts()"
   ]
  },
  {
   "cell_type": "code",
   "execution_count": 36,
   "metadata": {},
   "outputs": [
    {
     "data": {
      "text/plain": [
       "zip_short  quartile  purpose_new       \n",
       "5          0.0       home_improvement      0.191860\n",
       "8          46000.0   major_purchase        0.191489\n",
       "5          0.0       other                 0.190588\n",
       "8          0.0       major_purchase        0.190141\n",
       "1          0.0       major_purchase        0.181070\n",
       "3          65000.0   other                 0.168388\n",
       "           0.0       debt_consolidation    0.168103\n",
       "1          0.0       debt_consolidation    0.167864\n",
       "4          0.0       other                 0.166192\n",
       "8          0.0       debt_consolidation    0.164373\n",
       "3          65000.0   major_purchase        0.162791\n",
       "4          0.0       debt_consolidation    0.162134\n",
       "2          46000.0   other                 0.161747\n",
       "           0.0       other                 0.161034\n",
       "7          46000.0   major_purchase        0.160643\n",
       "3          46000.0   other                 0.160618\n",
       "8          0.0       other                 0.160567\n",
       "7          0.0       debt_consolidation    0.160295\n",
       "9          0.0       debt_consolidation    0.159886\n",
       "1          46000.0   debt_consolidation    0.159840\n",
       "2          46000.0   major_purchase        0.158974\n",
       "           0.0       debt_consolidation    0.158508\n",
       "6          0.0       other                 0.157895\n",
       "5          0.0       debt_consolidation    0.157722\n",
       "4          46000.0   other                 0.157682\n",
       "1          46000.0   other                 0.157539\n",
       "3          0.0       other                 0.157480\n",
       "9          46000.0   other                 0.156885\n",
       "7          0.0       other                 0.155431\n",
       "9          0.0       other                 0.153185\n",
       "                                             ...   \n",
       "6          46000.0   major_purchase        0.094828\n",
       "0          91690.5   home_improvement      0.093859\n",
       "4          65000.0   credit_card           0.093671\n",
       "6          91690.5   debt_consolidation    0.092991\n",
       "5          46000.0   credit_card           0.091188\n",
       "9          65000.0   credit_card           0.090756\n",
       "4          46000.0   credit_card           0.089888\n",
       "3          65000.0   credit_card           0.089748\n",
       "8          65000.0   credit_card           0.088218\n",
       "9          91690.5   home_improvement      0.087821\n",
       "1          91690.5   credit_card           0.085146\n",
       "8          91690.5   home_improvement      0.085142\n",
       "7          91690.5   credit_card           0.084906\n",
       "5          0.0       major_purchase        0.084507\n",
       "0          65000.0   credit_card           0.084404\n",
       "6          91690.5   home_improvement      0.083172\n",
       "           65000.0   credit_card           0.081748\n",
       "           91690.5   major_purchase        0.081633\n",
       "5          91690.5   home_improvement      0.080321\n",
       "1          91690.5   major_purchase        0.078740\n",
       "3          91690.5   credit_card           0.076766\n",
       "8          91690.5   credit_card           0.074756\n",
       "4          91690.5   major_purchase        0.072000\n",
       "5          91690.5   credit_card           0.071354\n",
       "4          91690.5   credit_card           0.068244\n",
       "5          65000.0   credit_card           0.066941\n",
       "9          91690.5   credit_card           0.066478\n",
       "2          91690.5   credit_card           0.066302\n",
       "0          91690.5   credit_card           0.061281\n",
       "6          91690.5   credit_card           0.059556\n",
       "Name: status, Length: 200, dtype: float64"
      ]
     },
     "execution_count": 36,
     "metadata": {},
     "output_type": "execute_result"
    }
   ],
   "source": [
    "grouped_count = df.groupby([\"zip_short\",\"quartile\",\"purpose_new\"]).status.count()\n",
    "grouped_problem = df[df.status==\"problem\"].groupby([\"zip_short\",\"quartile\",\"purpose_new\"]).status.count()\n",
    "(grouped_problem[grouped_problem>5]/grouped_count).dropna().sort_values(ascending=False)"
   ]
  },
  {
   "cell_type": "code",
   "execution_count": 22,
   "metadata": {
    "collapsed": true
   },
   "outputs": [],
   "source": [
    "df[\"credit_year\"] = df.earliest_cr_line.str[4:].astype(int)"
   ]
  },
  {
   "cell_type": "code",
   "execution_count": 23,
   "metadata": {
    "collapsed": true
   },
   "outputs": [],
   "source": [
    "df[\"years_credit\"] = pd.cut(2017-df[\"credit_year\"], [0,10,15,20,2017-df[\"credit_year\"].min()], right=True, labels=[0,10,15,20])"
   ]
  },
  {
   "cell_type": "code",
   "execution_count": 24,
   "metadata": {
    "collapsed": true
   },
   "outputs": [],
   "source": [
    "df[\"years_credit\"] = df[\"years_credit\"].astype(int)"
   ]
  },
  {
   "cell_type": "code",
   "execution_count": 25,
   "metadata": {},
   "outputs": [
    {
     "data": {
      "text/plain": [
       "zip_short  quartile  purpose_new       years_credit\n",
       "5          0.0       home_improvement  10              0.301887\n",
       "0          46000.0   home_improvement  0               0.292683\n",
       "3          65000.0   other             0               0.267442\n",
       "8          91690.5   other             10              0.258621\n",
       "3          65000.0   home_improvement  0               0.250000\n",
       "6          65000.0   other             0               0.240000\n",
       "8          0.0       major_purchase    0               0.235294\n",
       "1          0.0       major_purchase    10              0.234375\n",
       "9          65000.0   home_improvement  0               0.230769\n",
       "4          46000.0   other             0               0.222222\n",
       "7          0.0       major_purchase    15              0.222222\n",
       "9          91690.5   major_purchase    0               0.218750\n",
       "5          0.0       other             0               0.216867\n",
       "4          65000.0   other             15              0.216049\n",
       "8          46000.0   major_purchase    20              0.214286\n",
       "1          0.0       major_purchase    0               0.210526\n",
       "5          46000.0   other             10              0.210526\n",
       "7          46000.0   major_purchase    10              0.209877\n",
       "3          0.0       major_purchase    20              0.206349\n",
       "4          0.0       other             10              0.204611\n",
       "2          65000.0   home_improvement  0               0.204545\n",
       "4          0.0       other             0               0.204188\n",
       "5          0.0       other             10              0.202703\n",
       "2          91690.5   other             0               0.200000\n",
       "           46000.0   major_purchase    0               0.200000\n",
       "9          46000.0   home_improvement  0               0.200000\n",
       "4          65000.0   other             0               0.200000\n",
       "8          0.0       other             0               0.200000\n",
       "0          46000.0   major_purchase    0               0.200000\n",
       "5          91690.5   other             10              0.200000\n",
       "                                                         ...   \n",
       "8          65000.0   other             15              0.072368\n",
       "9          91690.5   credit_card       15              0.070720\n",
       "2          91690.5   credit_card       10              0.070423\n",
       "3          91690.5   credit_card       20              0.070423\n",
       "9          65000.0   home_improvement  20              0.069638\n",
       "0          65000.0   credit_card       15              0.069219\n",
       "4          65000.0   other             20              0.068627\n",
       "5          91690.5   home_improvement  15              0.068182\n",
       "0          91690.5   credit_card       15              0.067568\n",
       "5          65000.0   credit_card       10              0.066327\n",
       "2          91690.5   credit_card       15              0.066194\n",
       "3          91690.5   home_improvement  20              0.066000\n",
       "6          65000.0   credit_card       20              0.065306\n",
       "2          91690.5   credit_card       20              0.064248\n",
       "8          91690.5   home_improvement  15              0.063953\n",
       "6          91690.5   credit_card       15              0.062385\n",
       "7          91690.5   credit_card       20              0.061254\n",
       "5          91690.5   credit_card       20              0.060674\n",
       "0          91690.5   credit_card       20              0.058955\n",
       "9          91690.5   home_improvement  20              0.058496\n",
       "8          65000.0   home_improvement  20              0.058065\n",
       "9          91690.5   credit_card       20              0.057897\n",
       "0          91690.5   credit_card       0               0.057851\n",
       "9          91690.5   credit_card       0               0.057471\n",
       "0          91690.5   credit_card       10              0.057361\n",
       "6          91690.5   home_improvement  20              0.055319\n",
       "4          91690.5   credit_card       20              0.055076\n",
       "6          91690.5   credit_card       20              0.050336\n",
       "8          91690.5   credit_card       20              0.048662\n",
       "5          65000.0   credit_card       20              0.042289\n",
       "Name: status, Length: 675, dtype: float64"
      ]
     },
     "execution_count": 25,
     "metadata": {},
     "output_type": "execute_result"
    }
   ],
   "source": [
    "grouped_count = df.groupby([\"employment_length\",\"\",\"zip_short\",\"quartile\",\"purpose_new\",\"years_credit\"]).status.count()\n",
    "grouped_problem = df[df.status==\"problem\"].groupby([\"zip_short\",\"quartile\",\"purpose_new\",\"years_credit\"]).status.count()\n",
    "(grouped_problem[grouped_problem>5]/grouped_count).dropna().sort_values(ascending=False)"
   ]
  },
  {
   "cell_type": "code",
   "execution_count": 26,
   "metadata": {},
   "outputs": [
    {
     "data": {
      "text/plain": [
       "0     0.151756\n",
       "10    0.142984\n",
       "15    0.123328\n",
       "20    0.107917\n",
       "dtype: float64"
      ]
     },
     "execution_count": 26,
     "metadata": {},
     "output_type": "execute_result"
    }
   ],
   "source": [
    "years_credit_problem = df[df.status==\"problem\"][\"years_credit\"].value_counts()\n",
    "years_credit_count = df.groupby(df.years_credit).status.count()\n",
    "(years_credit_problem[years_credit_problem>5] / years_credit_count)"
   ]
  },
  {
   "cell_type": "code",
   "execution_count": 41,
   "metadata": {
    "collapsed": true
   },
   "outputs": [],
   "source": [
    "grouped_count = df.groupby([\"emp_length_short\",\"years_credit\",\"zip_short\",\"quartile\",\"purpose_new\"]).status.count()\n",
    "grouped_problem = df[df.status==\"problem\"].groupby([\"emp_length_short\",\"years_credit\",\"zip_short\",\"quartile\",\"purpose_new\"]).status.count()"
   ]
  },
  {
   "cell_type": "code",
   "execution_count": 28,
   "metadata": {},
   "outputs": [
    {
     "name": "stdout",
     "output_type": "stream",
     "text": [
      "credit_card            9.888753\n",
      "home_improvement      11.524928\n",
      "major_purchase        12.820513\n",
      "debt_consolidation    13.621710\n",
      "other                 14.456869\n",
      "Name: purpose_new, dtype: float64\n"
     ]
    },
    {
     "data": {
      "image/png": "[encoded data removed]",
      "text/plain": [
       "<matplotlib.figure.Figure at 0x1114c7e10>"
      ]
     },
     "metadata": {},
     "output_type": "display_data"
    }
   ],
   "source": [
    "count = df.purpose_new.value_counts()\n",
    "problem = df[df.status==\"problem\"].purpose_new.value_counts()\n",
    "\n",
    "print((problem/count*100).sort_values())\n",
    "\n",
    "ax = (problem/count*100).sort_values().plot(kind=\"barh\", color=\"darkred\")\n",
    "\n",
    "for item in ['top','right','bottom','left']:\n",
    "    ax.spines[item].set_visible(False)\n",
    "\n",
    "ax.set_xticks([0,5,10,15])\n",
    "ax.set_yticklabels(['Credit card','Home improvement','Major purchase','Debt consolidation','Other'])\n",
    "ax.set_xlabel(\"Loans with problems in %\")\n",
    "ax.tick_params(left=\"off\")\n",
    "\n",
    "fig = ax.get_figure()\n",
    "fig.savefig(\"purpose.svg\")"
   ]
  },
  {
   "cell_type": "code",
   "execution_count": 29,
   "metadata": {},
   "outputs": [
    {
     "name": "stdout",
     "output_type": "stream",
     "text": [
      "91690.5     9.929327\n",
      "65000.0    12.016152\n",
      "46000.0    13.451423\n",
      "0.0        15.117383\n",
      "Name: quartile, dtype: float64\n"
     ]
    },
    {
     "data": {
      "image/png": "[encoded data removed]",
      "text/plain": [
       "<matplotlib.figure.Figure at 0x1125e6f28>"
      ]
     },
     "metadata": {},
     "output_type": "display_data"
    }
   ],
   "source": [
    "count = df.quartile.value_counts()\n",
    "problem = df[df.status==\"problem\"].quartile.value_counts()\n",
    "\n",
    "print((problem/count*100).sort_values())\n",
    "\n",
    "ax = (problem/count*100).sort_values().plot(kind=\"barh\", color=\"darkred\")\n",
    "fig = ax.get_figure()\n",
    "\n",
    "for item in ['top','right','bottom','left']:\n",
    "    ax.spines[item].set_visible(False)\n",
    "    \n",
    "ax.tick_params(left=\"off\")\n",
    "ax.set_xlabel(\"Loans with problems in %\")    \n",
    "\n",
    "\n",
    "ax.set_yticklabels(['Above $91,690','$65,000\\nto $91,690','$46,000\\nto $65,000','Below $ 46,000'])\n",
    "\n",
    "fig.savefig(\"quartile.svg\")"
   ]
  },
  {
   "cell_type": "code",
   "execution_count": 30,
   "metadata": {},
   "outputs": [
    {
     "name": "stdout",
     "output_type": "stream",
     "text": [
      "0    11.467348\n",
      "6    11.495061\n",
      "5    11.955090\n",
      "9    12.402118\n",
      "2    12.440713\n",
      "8    12.867074\n",
      "4    12.982616\n",
      "3    13.104929\n",
      "7    13.187797\n",
      "1    13.514540\n",
      "Name: zip_short, dtype: float64\n"
     ]
    },
    {
     "data": {
      "image/png": "[encoded data removed]",
      "text/plain": [
       "<matplotlib.figure.Figure at 0x10c4ab160>"
      ]
     },
     "metadata": {},
     "output_type": "display_data"
    }
   ],
   "source": [
    "count = df.zip_short.value_counts()\n",
    "problem = df[df.status==\"problem\"].zip_short.value_counts()\n",
    "\n",
    "print((problem/count*100).sort_values())\n",
    "\n",
    "ax = (problem/count*100).sort_values().plot(kind=\"barh\", color=\"darkred\")\n",
    "fig = ax.get_figure()\n",
    "ax.set_xticks([0,5,10])\n",
    "\n",
    "for item in ['top','right','bottom','left']:\n",
    "    ax.spines[item].set_visible(False)\n",
    "    \n",
    "ax.tick_params(left=\"off\")\n",
    "ax.set_xlabel(\"Loans with problems in %\")    \n",
    "\n",
    "fig.savefig(\"zip_short.svg\")"
   ]
  },
  {
   "cell_type": "code",
   "execution_count": 31,
   "metadata": {},
   "outputs": [
    {
     "name": "stdout",
     "output_type": "stream",
     "text": [
      "20    10.791681\n",
      "15    12.332812\n",
      "10    14.298439\n",
      "0     15.175593\n",
      "Name: years_credit, dtype: float64\n"
     ]
    },
    {
     "data": {
      "image/png": "[encoded data removed]",
      "text/plain": [
       "<matplotlib.figure.Figure at 0x11147aeb8>"
      ]
     },
     "metadata": {},
     "output_type": "display_data"
    }
   ],
   "source": [
    "count = df.years_credit.value_counts()\n",
    "problem = df[df.status==\"problem\"].years_credit.value_counts()\n",
    "\n",
    "print((problem/count*100).sort_values())\n",
    "\n",
    "ax = (problem/count*100).sort_values().plot(kind=\"barh\", color=\"darkred\")\n",
    "fig = ax.get_figure()\n",
    "\n",
    "for item in ['top','right','bottom','left']:\n",
    "    ax.spines[item].set_visible(False)\n",
    "    \n",
    "ax.tick_params(left=\"off\")\n",
    "ax.set_xlabel(\"Loans with problems in %\") \n",
    "ax.set_xticks([0,5,10,15])\n",
    "\n",
    "ax.set_yticklabels(['More than 20 years','15 to 20 years','10 to 15 years','Below 10 years'])\n",
    "\n",
    "fig.savefig(\"years_credit.svg\")"
   ]
  },
  {
   "cell_type": "code",
   "execution_count": 32,
   "metadata": {},
   "outputs": [
    {
     "name": "stdout",
     "output_type": "stream",
     "text": [
      "9     11.473916\n",
      "5     12.705726\n",
      "1     12.800445\n",
      "0     13.600699\n",
      "10          NaN\n",
      "Name: emp_length_short, dtype: float64\n"
     ]
    },
    {
     "data": {
      "image/png": "[encoded data removed]",
      "text/plain": [
       "<matplotlib.figure.Figure at 0x112b4e128>"
      ]
     },
     "metadata": {},
     "output_type": "display_data"
    }
   ],
   "source": [
    "count = df[df.emp_length_short < 10 ].emp_length_short.value_counts()\n",
    "problem = df[(df.status==\"problem\") & (df.emp_length_short < 10) ].emp_length_short.value_counts()\n",
    "\n",
    "print((problem/count*100).sort_values())\n",
    "\n",
    "ax = (problem/count*100).sort_values().head(4).plot(kind=\"barh\", color=\"darkred\")\n",
    "fig = ax.get_figure()\n",
    "\n",
    "for item in ['top','right','bottom','left']:\n",
    "    ax.spines[item].set_visible(False)\n",
    "    \n",
    "ax.tick_params(left=\"off\")\n",
    "ax.set_xlabel(\"Loans with problems in %\") \n",
    "ax.set_xticks([0,5,10,15])\n",
    "\n",
    "ax.set_yticklabels(['10 and more years','5 to 10 years','1 to 5 years','1 year and below'])\n",
    "\n",
    "fig.savefig(\"emp_length_short.svg\")"
   ]
  },
  {
   "cell_type": "code",
   "execution_count": 52,
   "metadata": {
    "collapsed": true
   },
   "outputs": [],
   "source": [
    "count_dict = dict(grouped_count[grouped_count>100])\n",
    "rate_dict = dict(grouped_problem[grouped_count>100]/grouped_count[grouped_count>100])"
   ]
  },
  {
   "cell_type": "code",
   "execution_count": 53,
   "metadata": {},
   "outputs": [],
   "source": [
    "df_group = pd.DataFrame()\n",
    "new_employee_length = []\n",
    "new_years_credit = []\n",
    "new_zip_short = []\n",
    "new_quartile = []\n",
    "new_purpose = []\n",
    "new_rate = []\n",
    "new_count = []\n",
    "\n",
    "\n",
    "for key, value in count_dict.items():\n",
    "    new_employee_length.append(key[0])\n",
    "    new_years_credit.append(key[1])\n",
    "    new_zip_short.append(key[2])\n",
    "    new_quartile.append(key[3])\n",
    "    new_purpose.append(key[4])\n",
    "    new_count.append(value)\n",
    "\n",
    "for key, value in rate_dict.items():\n",
    "    new_rate.append(value)\n",
    "\n",
    "df_group['employee_length'] = new_employee_length\n",
    "df_group['years_credit'] = new_years_credit\n",
    "df_group['zip'] = new_zip_short\n",
    "df_group['quartile'] = new_quartile\n",
    "df_group['purpose'] = new_purpose\n",
    "df_group['rate'] = new_rate\n",
    "df_group['count'] = new_count"
   ]
  },
  {
   "cell_type": "code",
   "execution_count": 54,
   "metadata": {
    "collapsed": true
   },
   "outputs": [],
   "source": [
    "df_group = df_group.dropna().sort_values(by='rate',ascending=False)"
   ]
  },
  {
   "cell_type": "code",
   "execution_count": 55,
   "metadata": {},
   "outputs": [
    {
     "data": {
      "text/plain": [
       "debt_consolidation    530\n",
       "credit_card           394\n",
       "other                  74\n",
       "home_improvement       44\n",
       "Name: purpose, dtype: int64"
      ]
     },
     "execution_count": 55,
     "metadata": {},
     "output_type": "execute_result"
    }
   ],
   "source": [
    "df_group.purpose.value_counts()"
   ]
  },
  {
   "cell_type": "code",
   "execution_count": null,
   "metadata": {
    "collapsed": true
   },
   "outputs": [],
   "source": [
    "df_group.to_csv(\"grouped_data.csv\")"
   ]
  },
  {
   "cell_type": "code",
   "execution_count": null,
   "metadata": {
    "collapsed": true
   },
   "outputs": [],
   "source": []
  },
  {
   "cell_type": "code",
   "execution_count": null,
   "metadata": {
    "collapsed": true
   },
   "outputs": [],
   "source": []
  },
  {
   "cell_type": "code",
   "execution_count": null,
   "metadata": {
    "collapsed": true
   },
   "outputs": [],
   "source": []
  }
 ],
 "metadata": {
  "kernelspec": {
   "display_name": "Python 3",
   "language": "python",
   "name": "python3"
  },
  "language_info": {
   "codemirror_mode": {
    "name": "ipython",
    "version": 3
   },
   "file_extension": ".py",
   "mimetype": "text/x-python",
   "name": "python",
   "nbconvert_exporter": "python",
   "pygments_lexer": "ipython3",
   "version": "3.6.1"
  }
 },
 "nbformat": 4,
 "nbformat_minor": 2
}
